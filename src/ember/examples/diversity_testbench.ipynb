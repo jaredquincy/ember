{
 "cells": [
  {
   "cell_type": "markdown",
   "metadata": {},
   "source": [
    "# Diversity Testbench\n",
    "\n",
    "---\n",
    "---"
   ]
  },
  {
   "cell_type": "markdown",
   "metadata": {},
   "source": [
    "## Ember Package"
   ]
  },
  {
   "cell_type": "markdown",
   "metadata": {},
   "source": [
    "### Setup Dependencies"
   ]
  },
  {
   "cell_type": "markdown",
   "metadata": {},
   "source": [
    "NOTE: things below this are to install required dependencies (do this in the virtual env)\n",
    "\n",
    "This may require running these commaned to setup your venv first:\n",
    "- https://github.com/jaredquincy/ember/blob/main/INSTALLATION_GUIDE.md\n",
    "- `uv venv`\n",
    "- `uv pip install ember-ai`\n",
    "- `uv pip install pip`\n",
    "- `source .venv/bin/activate`\n",
    "\n",
    "Plus, add your OpenAI API key -> environ\n",
    "- `export OPENAI_API_KEY=<key>` in the terminal\n",
    "- `os.environ[\"OPENAI_API_KEY\"] = <key>` in ipynb cell"
   ]
  },
  {
   "cell_type": "code",
   "execution_count": 10,
   "metadata": {},
   "outputs": [],
   "source": [
    "import sys, os, logging"
   ]
  },
  {
   "cell_type": "code",
   "execution_count": null,
   "metadata": {},
   "outputs": [],
   "source": [
    "# < enter api keys here! >"
   ]
  },
  {
   "cell_type": "code",
   "execution_count": 15,
   "metadata": {},
   "outputs": [],
   "source": [
    "openai_key = os.getenv(\"OPENAI_API_KEY\")\n",
    "\n",
    "# Set global logging level to ERROR\n",
    "logging.basicConfig(level=logging.ERROR)\n",
    "\n",
    "os.environ[\"EMBER_LOGGING_LEVEL\"] = \"ERROR\""
   ]
  },
  {
   "cell_type": "markdown",
   "metadata": {},
   "source": [
    "Install dependencies"
   ]
  },
  {
   "cell_type": "code",
   "execution_count": null,
   "metadata": {},
   "outputs": [
    {
     "name": "stdout",
     "output_type": "stream",
     "text": [
      "\u001b[2mUsing Python 3.11.9 environment at: /Users/concon/research/ember-branch/ember/.venv\u001b[0m\n",
      "\u001b[2mAudited \u001b[1m1 package\u001b[0m \u001b[2min 27ms\u001b[0m\u001b[0m\n"
     ]
    }
   ],
   "source": [
    "# !uv pip install -q -e .\n",
    "\n",
    "# compression ratio dependencies\n",
    "!uv pip install diversity==0.2.0\n",
    "!uv pip install -q spacy==3.8.4\n",
    "\n",
    "# edit distance\n",
    "!uv pip install -q python-Levenshtein\n",
    "\n",
    "# ensemble example\n",
    "!uv pip install -q matplotlib"
   ]
  },
  {
   "cell_type": "code",
   "execution_count": 38,
   "metadata": {},
   "outputs": [],
   "source": [
    "# basic imports & dependencies\n",
    "from __future__ import annotations\n",
    "\n",
    "# class definitions used in ember repo\n",
    "import math, re, subprocess\n",
    "from typing import Dict, Any, List, Protocol, TypeVar, Optional, Generic, Callable, Union\n",
    "from abc import ABC, abstractmethod\n",
    "\n",
    "# compression related items\n",
    "from diversity import compression_ratio\n",
    "import Levenshtein\n",
    "import numpy as np\n",
    "import matplotlib.pyplot as plt\n",
    "import pandas as pd\n",
    "import tqdm\n",
    "\n",
    "# ember repo loads\n",
    "from ember.core.registry.model.config.settings import initialize_registry\n",
    "from ember.core.registry.model.base.services.model_service import ModelService\n",
    "from ember.core.registry.model.base.schemas.model_info import ModelInfo\n",
    "from ember.core.registry.model.base.schemas.cost import ModelCost, RateLimit\n",
    "from ember.core.registry.model.base.schemas.provider_info import ProviderInfo\n",
    "\n",
    "from ember.core.registry.model import load_model, ChatResponse\n",
    "from ember.core.registry.model.base.services.model_service import ModelService\n",
    "\n",
    "from ember.core.registry.model.providers.openai.openai_provider import create_openai_embedding_model\n",
    "from ember.core.utils.embedding_utils import CosineSimilarity, calculate_text_similarity\n",
    "from ember.core.utils.eval.diversity_evaluators import DiversityCosineSimilarityEvaluator, DiversityEditDistanceEvaluator, DiversityCompressionEvaluator, DiversityNoveltyEvaluator, DiversityEnsembledEvaluator"
   ]
  },
  {
   "cell_type": "markdown",
   "metadata": {},
   "source": [
    "Setup model registry to run models"
   ]
  },
  {
   "cell_type": "code",
   "execution_count": 18,
   "metadata": {
    "scrolled": true
   },
   "outputs": [],
   "source": [
    "model_registry = initialize_registry()\n",
    "llm = ModelService(registry=model_registry)"
   ]
  },
  {
   "cell_type": "markdown",
   "metadata": {},
   "source": [
    "### ModelRegistry checks (**<u>OPTIONAL</u>**)\n",
    "\n",
    "From the code above, it should auto add models from your config files (which can displayed from printing below), but you can also add your own models as shown below!"
   ]
  },
  {
   "cell_type": "code",
   "execution_count": 19,
   "metadata": {
    "scrolled": true
   },
   "outputs": [
    {
     "data": {
      "text/plain": [
       "['openai:gpt-4o-audio-preview-2024-12-17',\n",
       " 'openai:dall-e-3',\n",
       " 'openai:dall-e-2',\n",
       " 'openai:gpt-4o-audio-preview-2024-10-01',\n",
       " 'openai:gpt-4o-realtime-preview-2024-10-01',\n",
       " 'openai:gpt-4o-transcribe',\n",
       " 'openai:gpt-4o-mini-transcribe',\n",
       " 'openai:gpt-4o-realtime-preview',\n",
       " 'openai:gpt-4o-mini-tts',\n",
       " 'openai:gpt-4o-realtime-preview-2024-12-17',\n",
       " 'openai:text-embedding-3-large',\n",
       " 'openai:gpt-4',\n",
       " 'openai:text-embedding-ada-002',\n",
       " 'openai:gpt-4o-mini-audio-preview',\n",
       " 'openai:gpt-4o-audio-preview',\n",
       " 'openai:gpt-4o-mini-realtime-preview',\n",
       " 'openai:gpt-4o-mini-realtime-preview-2024-12-17',\n",
       " 'openai:gpt-3.5-turbo-instruct-0914',\n",
       " 'openai:gpt-4o-mini-search-preview',\n",
       " 'openai:gpt-4-turbo-preview',\n",
       " 'openai:gpt-4-0125-preview',\n",
       " 'openai:gpt-3.5-turbo-1106',\n",
       " 'openai:gpt-4-turbo',\n",
       " 'openai:gpt-3.5-turbo-instruct',\n",
       " 'openai:gpt-3.5-turbo',\n",
       " 'openai:gpt-4o-mini-search-preview-2025-03-11',\n",
       " 'openai:gpt-4o-2024-11-20',\n",
       " 'openai:gpt-3.5-turbo-0125',\n",
       " 'openai:gpt-4o-2024-05-13',\n",
       " 'openai:gpt-3.5-turbo-16k',\n",
       " 'openai:gpt-4-turbo-2024-04-09',\n",
       " 'openai:gpt-4-1106-preview',\n",
       " 'openai:gpt-4-0613',\n",
       " 'openai:gpt-4o-search-preview',\n",
       " 'openai:gpt-4.5-preview',\n",
       " 'openai:gpt-4.5-preview-2025-02-27',\n",
       " 'openai:gpt-4o-search-preview-2025-03-11',\n",
       " 'openai:text-embedding-3-small',\n",
       " 'openai:gpt-4o',\n",
       " 'openai:gpt-4o-mini',\n",
       " 'openai:gpt-4o-2024-08-06',\n",
       " 'openai:gpt-4o-mini-2024-07-18',\n",
       " 'openai:gpt-4o-mini-audio-preview-2024-12-17']"
      ]
     },
     "execution_count": 19,
     "metadata": {},
     "output_type": "execute_result"
    }
   ],
   "source": [
    "model_registry.list_models()"
   ]
  },
  {
   "cell_type": "code",
   "execution_count": 20,
   "metadata": {},
   "outputs": [
    {
     "name": "stdout",
     "output_type": "stream",
     "text": [
      "Error registering model: Model 'openai:text-embedding-3-large' is already registered.\n"
     ]
    }
   ],
   "source": [
    "# Register an OpenAI text-embedding model\n",
    "try:\n",
    "    openai_info = ModelInfo(\n",
    "        id=\"openai:text-embedding-3-large\",\n",
    "        name=\"text-embedding-3-large\",\n",
    "        cost=ModelCost(input_cost_per_thousand=0.03, output_cost_per_thousand=0.06),\n",
    "        rate_limit=RateLimit(tokens_per_minute=80000, requests_per_minute=5000),\n",
    "        provider=ProviderInfo(name=\"OpenAI\", default_api_key=openai_key),\n",
    "        api_key=openai_key,\n",
    "    )\n",
    "    model_registry.register_model(openai_info)\n",
    "except ValueError as e:\n",
    "    print(\"Error registering model:\", e)\n"
   ]
  },
  {
   "cell_type": "markdown",
   "metadata": {},
   "source": [
    "### Test example of ModelRegistry (**<u>OPTIONAL</u>**)\n",
    "taken from `src/ember/core/registry/model/examples/example.py`"
   ]
  },
  {
   "cell_type": "code",
   "execution_count": 21,
   "metadata": {},
   "outputs": [],
   "source": [
    "model_ids: List[str] = [\n",
    "            \"openai:o1\",\n",
    "            \"openai:gpt-4o\",\n",
    "            \"openai:gpt-4o-mini\",\n",
    "            # \"anthropic:claude-3.5-sonnet\", # API key not working\n",
    "            # \"invalid:model\",  # Expected to trigger an error.\n",
    "            # \"google:model/gemini-1.5-pro\", # need to fix model alignment\n",
    "        ]"
   ]
  },
  {
   "cell_type": "code",
   "execution_count": 22,
   "metadata": {},
   "outputs": [
    {
     "name": "stdout",
     "output_type": "stream",
     "text": [
      "➡️ Testing model: openai:o1\n",
      "❌ Error with model openai:o1: [Error 3002] Model 'openai:o1' not found. Available models:\n",
      "- openai:gpt-4o-audio-preview-2024-12-17\n",
      "- openai:dall-e-3\n",
      "- openai:dall-e-2\n",
      "- openai:gpt-4o-audio-preview-2024-10-01\n",
      "- openai:gpt-4o-realtime-preview-2024-10-01\n",
      "- openai:gpt-4o-transcribe\n",
      "- openai:gpt-4o-mini-transcribe\n",
      "- openai:gpt-4o-realtime-preview\n",
      "- openai:gpt-4o-mini-tts\n",
      "- openai:gpt-4o-realtime-preview-2024-12-17\n",
      "- openai:text-embedding-3-large\n",
      "- openai:gpt-4\n",
      "- openai:text-embedding-ada-002\n",
      "- openai:gpt-4o-mini-audio-preview\n",
      "- openai:gpt-4o-audio-preview\n",
      "- openai:gpt-4o-mini-realtime-preview\n",
      "- openai:gpt-4o-mini-realtime-preview-2024-12-17\n",
      "- openai:gpt-3.5-turbo-instruct-0914\n",
      "- openai:gpt-4o-mini-search-preview\n",
      "- openai:gpt-4-turbo-preview\n",
      "- openai:gpt-4-0125-preview\n",
      "- openai:gpt-3.5-turbo-1106\n",
      "- openai:gpt-4-turbo\n",
      "- openai:gpt-3.5-turbo-instruct\n",
      "- openai:gpt-3.5-turbo\n",
      "- openai:gpt-4o-mini-search-preview-2025-03-11\n",
      "- openai:gpt-4o-2024-11-20\n",
      "- openai:gpt-3.5-turbo-0125\n",
      "- openai:gpt-4o-2024-05-13\n",
      "- openai:gpt-3.5-turbo-16k\n",
      "- openai:gpt-4-turbo-2024-04-09\n",
      "- openai:gpt-4-1106-preview\n",
      "- openai:gpt-4-0613\n",
      "- openai:gpt-4o-search-preview\n",
      "- openai:gpt-4.5-preview\n",
      "- openai:gpt-4.5-preview-2025-02-27\n",
      "- openai:gpt-4o-search-preview-2025-03-11\n",
      "- openai:text-embedding-3-small\n",
      "- openai:gpt-4o\n",
      "- openai:gpt-4o-mini\n",
      "- openai:gpt-4o-2024-08-06\n",
      "- openai:gpt-4o-mini-2024-07-18\n",
      "- openai:gpt-4o-mini-audio-preview-2024-12-17 [Recovery: Check the model name and ensure it's correctly registered] [Context: caller_file='/Users/concon/research/ember-branch/ember/src/ember/core/registry/model/base/registry/model_registry.py', caller_function='get_model', caller_lineno=144]\n",
      "➡️ Testing model: openai:gpt-4o\n",
      "🛎️ Service response from openai:gpt-4o:\n",
      "Quantum computing harnesses quantum mechanics to process information using quantum bits (qubits), which exist in multiple states simultaneously (superposition). It leverages entanglement and interference for complex computations, outperforming classical computers in certain tasks by solving problems exponentially faster, revolutionizing fields like cryptography, optimization, and drug discovery.\n",
      "\n",
      "🎯 Direct response from openai:gpt-4o:\n",
      "The capital of France is Paris.\n",
      "\n",
      "➡️ Testing model: openai:gpt-4o-mini\n",
      "🛎️ Service response from openai:gpt-4o-mini:\n",
      "Quantum computing utilizes quantum bits, or qubits, which can exist in multiple states simultaneously due to superposition. This allows quantum computers to process complex problems at unprecedented speeds compared to classical computers. Entanglement further enhances processing power, enabling efficient solutions for tasks like cryptography, optimization, and complex simulations.\n",
      "\n",
      "🎯 Direct response from openai:gpt-4o-mini:\n",
      "The capital of France is Paris.\n",
      "\n"
     ]
    }
   ],
   "source": [
    "for model_id in model_ids:\n",
    "    try:\n",
    "        print(f\"➡️ Testing model: {model_id}\")\n",
    "\n",
    "        # Two usage styles are demonstrated below:\n",
    "        # 1. Service-based invocation: Recommended for automatic usage tracking.\n",
    "        service_response: ChatResponse = llm.invoke_model(\n",
    "            model_id=model_id,\n",
    "            prompt=\"Explain quantum computing in 50 words\",\n",
    "        )\n",
    "        print(f\"🛎️ Service response from {model_id}:\\n{service_response.data}\\n\")\n",
    "\n",
    "        # 2. Direct model instance usage: Useful for more granular or PyTorch-like workflows.\n",
    "        model = load_model(model_id=model_id, registry=model_registry)\n",
    "        direct_response: ChatResponse = model(\n",
    "            prompt=\"What's the capital of France?\"\n",
    "        )\n",
    "        print(f\"🎯 Direct response from {model_id}:\\n{direct_response.data}\\n\")\n",
    "\n",
    "    except Exception as error:\n",
    "        print(f\"❌ Error with model {model_id}: {str(error)}\")\n",
    "        continue\n"
   ]
  },
  {
   "cell_type": "code",
   "execution_count": 23,
   "metadata": {},
   "outputs": [
    {
     "name": "stdout",
     "output_type": "stream",
     "text": [
      "Hello! How can I assist you today?\n"
     ]
    }
   ],
   "source": [
    "response = llm(prompt=\"Hello!\", model_id=\"openai:gpt-4o\")\n",
    "print(response.data)"
   ]
  },
  {
   "cell_type": "markdown",
   "metadata": {},
   "source": [
    "---\n",
    "---\n",
    "\n",
    "## Diversity Scores"
   ]
  },
  {
   "cell_type": "markdown",
   "metadata": {},
   "source": [
    "### Neural Similarity Scoring - Cosine Similarity\n",
    "\n",
    "- from `src/ember/core/utils/embedding_utils.py`"
   ]
  },
  {
   "cell_type": "code",
   "execution_count": 24,
   "metadata": {
    "scrolled": true
   },
   "outputs": [
    {
     "name": "stdout",
     "output_type": "stream",
     "text": [
      "Cosine similarity Score: 0.7287\n",
      "\n",
      "Cosine similarity Score: 0.8205\n",
      "\n",
      "Cosine similarity Score: 1.0000\n",
      "\n"
     ]
    }
   ],
   "source": [
    "embedding_model = create_openai_embedding_model()\n",
    "cosine: CosineSimilarity = CosineSimilarity()\n",
    "\n",
    "text_a: str = \"Hello world!\"\n",
    "text_b: str = \"Hello, world??\"\n",
    "\n",
    "diverse_text = [\"Bananas don't belong in briefcases\", \"Abraham Lincoln\", \"ERROR 404: Index Not Found\"]\n",
    "\n",
    "different_words_not_diverse_strs = [\"peanut butter and jelly\", \"bacon lettuce tomato\"]\n",
    "\n",
    "repetition_strs = [\"This is a sample text with lots of repetition.\", \n",
    "                \"This is a sample text with lots of repetition.\"]\n",
    "\n",
    "test_strings = [diverse_text, different_words_not_diverse_strs, repetition_strs]\n",
    "\n",
    "for test in test_strings:\n",
    "    score: float = calculate_text_similarity(\n",
    "        text1=test[0], text2=test[1], model=embedding_model, metric=cosine\n",
    "    )\n",
    "\n",
    "    print(f\"Cosine similarity Score: {score:.4f}\")\n",
    "    print(\"\")"
   ]
  },
  {
   "cell_type": "markdown",
   "metadata": {},
   "source": [
    "### Compression Ratio\n",
    "\n",
    "- from `src/ember/core/utils/eval/evaluators.py`"
   ]
  },
  {
   "cell_type": "code",
   "execution_count": 25,
   "metadata": {},
   "outputs": [
    {
     "name": "stdout",
     "output_type": "stream",
     "text": [
      "Compression Score: 0.5766\n",
      "Is Correct: True\n",
      "Metadata: {'responses': ['hi there', 'hi', 'hello', 'yo whatup']}\n"
     ]
    }
   ],
   "source": [
    "compression_evaluator = DiversityCompressionEvaluator()\n",
    "\n",
    "input_strs = [\"hi there\", \"hi\", \"hello\", \"yo whatup\"]\n",
    "\n",
    "# input_strs = [\"This is a sample text with lots of repetition.\", \n",
    "#                 \"This is a sample text with lots of repetition.\",\n",
    "#                 \"This is a sample text with lots of repetition.\"]\n",
    "\n",
    "edit_distance = compression_evaluator.evaluate(input_strs)\n",
    "\n",
    "print(f\"Compression Score: {edit_distance.score:.4f}\")\n",
    "print(f\"Is Correct: {edit_distance.is_correct}\")\n",
    "print(f\"Metadata: {edit_distance.metadata}\")"
   ]
  },
  {
   "cell_type": "markdown",
   "metadata": {},
   "source": [
    "### Edit Distance"
   ]
  },
  {
   "cell_type": "code",
   "execution_count": 26,
   "metadata": {},
   "outputs": [
    {
     "name": "stdout",
     "output_type": "stream",
     "text": [
      "Edit Distance Score: 0.8301\n",
      "Is Correct: True\n",
      "Metadata: {'responses': ['hi there', 'hi', 'hello', 'yo whatup']}\n"
     ]
    }
   ],
   "source": [
    "distance_evaluator = DiversityEditDistanceEvaluator()\n",
    "\n",
    "input_strs = [\"hi there\", \"hi\", \"hello\", \"yo whatup\"]\n",
    "\n",
    "# input_strs = [\"This is a sample text with lots of repetition.\", \n",
    "#                 \"This is a sample text with lots of repetition.\",\n",
    "#                 \"This is a sample text with lots of repetition.\"]\n",
    "\n",
    "edit_distance = distance_evaluator.evaluate(input_strs)\n",
    "\n",
    "print(f\"Edit Distance Score: {edit_distance.score:.4f}\")\n",
    "print(f\"Is Correct: {edit_distance.is_correct}\")\n",
    "print(f\"Metadata: {edit_distance.metadata}\")"
   ]
  },
  {
   "cell_type": "markdown",
   "metadata": {},
   "source": [
    "### Novelty Score (WIP)"
   ]
  },
  {
   "cell_type": "code",
   "execution_count": 27,
   "metadata": {},
   "outputs": [
    {
     "name": "stdout",
     "output_type": "stream",
     "text": [
      "Novelty Score: 0.3319\n",
      "Is Correct: True\n",
      "Metadata: {'responses': ['hi there', 'hi', 'hello', 'yo whatup'], 'novelty_scores': [1.0, 0.11153064719273964, 0.07012108639942194, 0.1458646243357714]}\n"
     ]
    }
   ],
   "source": [
    "novelty_evaluator = DiversityNoveltyEvaluator(create_openai_embedding_model())\n",
    "\n",
    "input_strs = [\"hi there\", \"hi\", \"hello\", \"yo whatup\"]\n",
    "\n",
    "novelty = novelty_evaluator.evaluate(input_strs)\n",
    "\n",
    "print(f\"Novelty Score: {novelty.score:.4f}\")\n",
    "print(f\"Is Correct: {novelty.is_correct}\")\n",
    "print(f\"Metadata: {novelty.metadata}\")"
   ]
  },
  {
   "cell_type": "markdown",
   "metadata": {},
   "source": [
    "---\n",
    "---\n",
    "\n",
    "## Ensembled Score Example"
   ]
  },
  {
   "cell_type": "markdown",
   "metadata": {},
   "source": [
    "Function to combine all the scores (cosine similarity, compression ratio, edit distance)"
   ]
  },
  {
   "cell_type": "code",
   "execution_count": 28,
   "metadata": {},
   "outputs": [],
   "source": [
    "text_embedding_ada_002 = create_openai_embedding_model(\"text-embedding-ada-002\")\n",
    "\n",
    "cosine_evaluator = DiversityCosineSimilarityEvaluator(embedding_model=text_embedding_ada_002)\n",
    "compression_evaluator = DiversityCompressionEvaluator()\n",
    "edit_dist_evaluator = DiversityEditDistanceEvaluator()\n",
    "diversity_evaluator = DiversityEnsembledEvaluator(embedding_model=embedding_model)\n",
    "\n",
    "def ensemble_diversity(strings):\n",
    "    div_cosine = cosine_evaluator.evaluate(strings).score\n",
    "    div_compression = compression_evaluator.evaluate(strings).score\n",
    "    div_edit = edit_dist_evaluator.evaluate(strings).score\n",
    "    div_ensemble_score = diversity_evaluator.evaluate(strings).score\n",
    "    return div_cosine, div_compression, div_edit, div_ensemble_score"
   ]
  },
  {
   "cell_type": "markdown",
   "metadata": {},
   "source": [
    "Creating a list of strings"
   ]
  },
  {
   "cell_type": "code",
   "execution_count": 29,
   "metadata": {},
   "outputs": [],
   "source": [
    "input_strs = []\n",
    "scores = []\n",
    "input_strs.append([\"This is a sample text with lots of repetition.\", \n",
    "                \"This is a sample text with lots of repetition.\",\n",
    "                \"This is a sample text with lots of repetition.\"])\n",
    "\n",
    "responses = []\n",
    "for i in range(10):\n",
    "    res = llm(prompt=\"Tell me a funny joke. Keep it concise.\", model_id=\"openai:gpt-4o\").data.replace(\"\\n\", \"\")\n",
    "    responses.append(res)\n",
    "input_strs.append(responses)\n",
    "\n",
    "responses = []\n",
    "res = llm(prompt=\"Tell me 10 different jokes. make them split with \\'||\\'. Don't say anything else besides the joke. \", model_id=\"openai:gpt-4o\").data.replace(\"\\n\", \"\").split('||')\n",
    "responses += res\n",
    "input_strs.append(responses)\n",
    "\n",
    "responses = []\n",
    "res1 = llm(prompt=\"Tell me a story about how quantum computers work. Make it 100 words. Don't say anything else besides the story. \", model_id=\"openai:gpt-4o\").data\n",
    "responses.append(res1)\n",
    "res2 = llm(prompt=\"Tell me a story about bunnies frolicking in the grass. Make it 100 words. Don't say anything else besides the story. \", model_id=\"openai:gpt-4o\").data\n",
    "responses.append(res2)\n",
    "res3 = llm(prompt=\"Tell me a story about the pokemon pikachu and it's adventures. Make it 100 words. Don't say anything else besides the story. \", model_id=\"openai:gpt-4o\").data\n",
    "responses.append(res3)\n",
    "res4 = llm(prompt=\"Tell me a story about a ramen shop. Make it 100 words. Don't say anything else besides the story. \", model_id=\"openai:gpt-4o\").data\n",
    "responses.append(res4)\n",
    "input_strs.append(responses)\n",
    "\n",
    "input_strs.append([\n",
    "    \"Understanding the importance of effective communication in the workplace cannot be overstated. Clear communication fosters a positive environment where people can express their ideas and work together efficiently. When team members understand one another, they can collaborate seamlessly, avoid misunderstandings, and achieve collective goals. Furthermore, communication skills are essential for building trust, resolving conflicts, and ensuring that expectations are clear. Whether through verbal discussions, emails, or presentations, knowing how to convey thoughts in an understandable way is key to success in any professional setting.\",\n",
    "    \"In any workplace, the ability to communicate effectively is crucial for success. When individuals can clearly articulate their ideas and listen actively, it leads to a more productive and harmonious environment. Good communication prevents misunderstandings, aids in team collaboration, and helps in meeting shared objectives. It also plays a vital role in fostering trust among colleagues, resolving disputes, and ensuring transparency. Whether it’s through face-to-face conversations, written messages, or virtual meetings, mastering communication is essential to creating a positive, high-functioning work culture.\",\n",
    "    \"Effective communication is a cornerstone of a successful work environment. When employees communicate clearly and efficiently, it improves the overall flow of work and enhances collaboration. Clear exchanges of ideas help to eliminate confusion, build mutual trust, and ensure that everyone is aligned in their goals. Additionally, strong communication skills are key to managing conflicts and setting clear expectations among teams. Whether in meetings, emails, or other formats, being able to communicate effectively contributes to a thriving and efficient workplace.\",\n",
    "    \"The role of communication in the workplace cannot be overlooked. It serves as the foundation for successful teamwork and organizational growth. When team members share information clearly, it promotes a collaborative atmosphere and reduces the risk of errors or misinterpretations. Strong communication is also vital in building relationships, resolving issues, and making sure everyone is on the same page. Whether it's verbal exchanges or written correspondence, honing your ability to communicate well is vital for fostering an effective work environment.\",\n",
    "    \"Communication within the workplace is a vital element for success. Clear and open communication promotes a cooperative and efficient atmosphere, helping team members to better understand each other’s ideas and work toward common goals. It reduces confusion, builds trust, and allows for smoother problem-solving when conflicts arise. By conveying thoughts and expectations effectively, individuals can create stronger working relationships and a productive team dynamic. Whether through emails, phone calls, or face-to-face interactions, mastering communication techniques is key for professional achievement.\",\n",
    "])"
   ]
  },
  {
   "cell_type": "code",
   "execution_count": 30,
   "metadata": {},
   "outputs": [
    {
     "name": "stdout",
     "output_type": "stream",
     "text": [
      "0 -------------------\n",
      "\t- This is a sample text with lots of repetition.\n",
      "\t- This is a sample text with lots of repetition.\n",
      "\t- This is a sample text with lots of repetition.\n",
      "1 -------------------\n",
      "\t- Why don't scientists trust atoms?Because they make up everything!\n",
      "\t- Why don't skeletons fight each other? They don't have the guts.\n",
      "\t- Why don't skeletons fight each other? They don't have the guts!\n",
      "\t- Why don't skeletons fight each other? They don't have the guts!\n",
      "\t- Why don't skeletons fight each other? They don't have the guts.\n",
      "\t- Why did the scarecrow win an award? Because he was outstanding in his field!\n",
      "\t- Why do cows have hooves instead of feet?   Because they lactose!\n",
      "\t- Why don't scientists trust atoms?Because they make up everything!\n",
      "\t- Why did the scarecrow win an award? Because he was outstanding in his field!\n",
      "\t- Why don't scientists trust atoms? Because they make up everything!\n",
      "2 -------------------\n",
      "\t- Why did the scarecrow win an award? Because he was outstanding in his field! \n",
      "\t-  Why don’t scientists trust atoms? Because they make up everything! \n",
      "\t-  What do you call fake spaghetti? An impasta! \n",
      "\t-  Why was the math book sad? Because it had too many problems. \n",
      "\t-  How does a penguin build its house? Igloos it together. \n",
      "\t-  What do you call cheese that isn't yours? Nacho cheese! \n",
      "\t-  Why did the bicycle fall over? Because it was two-tired! \n",
      "\t-  How does a cucumber become a pickle? It goes through a jarring experience. \n",
      "\t-  Why did the golfer bring two pairs of pants? In case he got a hole in one! \n",
      "\t-  What do you get when you cross a snowman and a vampire? Frostbite!\n",
      "3 -------------------\n",
      "\t- In a vibrant quantum lab, tiny particles danced. Unlike regular bits that were zeros or ones, qubits spun like magical coins, showing both at once. Entwined like celestial partners, these qubits shared secrets through entanglement, defying distances. Scientists orchestrated this cosmic ballet, using algorithms like ancient spells to solve complex puzzles. As qubits calmed into states with precision, their whispers unlocked solutions to problems once deemed impossible. The quantum computer, a symphony of probability and possibility, became a lighthouse of advancement, shining new paths in medicine, cryptography, and beyond, merging the mysteries of the quantum world with human ingenuity.\n",
      "\t- In a meadow kissed by sunlight, a group of bunnies joyfully frolicked in the lush, emerald grass. Their soft fur shimmered in the golden rays as they leapt and twirled, ears flopping jauntily. One brave bunny ventured to the center, starting a playful chase that sent them all scampering in mirthful circles. As they paused, catching breath in the shade of a towering oak, a gentle breeze whispered through the trees. The bunnies nuzzled together, sharing the serenity of the moment, before resuming their joyful dance, celebrating the simple delight of life under the endless sky.\n",
      "\t- In the lush forest of Viridian, Pikachu trotted joyfully with its trainer, Ash. They stumbled upon a mysterious glowing berry that Pikachu eagerly nibbled. Suddenly, Pikachu was enveloped in a golden aura, granting it the power to understand other Pokémon's thoughts. With this newfound ability, Pikachu led a mission to resolve a dispute between two rival Pokémon clans: the Squirtle Squad and the Charmander League. Through communication and empathy, Pikachu fostered a harmonious agreement, creating a united community. Victorious, Pikachu and Ash celebrated under the twinkling stars, their bond stronger than ever, ready for the next adventure.\n",
      "\t- Under dim lantern light, Suki's ramen shop thrived quietly in a bustling Tokyo alley. Each bowl crafted was a symphony of flavors, secrets passed from her grandmother. The irresistible aroma lured weary souls seeking solace in slurps. One rainy night, a wandering musician left his tune as thanks. Enchanted, Suki played his melody, infusing it into her broth. Customers, entranced by the unseen harmony, felt warmth beyond the soup. Word spread of this magical amalgamation, and soon, seekers of both food and peace filled the tiny shop. Suki's ramen didn’t just feed bodies; it nourished spirits.\n",
      "4 -------------------\n",
      "\t- Understanding the importance of effective communication in the workplace cannot be overstated. Clear communication fosters a positive environment where people can express their ideas and work together efficiently. When team members understand one another, they can collaborate seamlessly, avoid misunderstandings, and achieve collective goals. Furthermore, communication skills are essential for building trust, resolving conflicts, and ensuring that expectations are clear. Whether through verbal discussions, emails, or presentations, knowing how to convey thoughts in an understandable way is key to success in any professional setting.\n",
      "\t- In any workplace, the ability to communicate effectively is crucial for success. When individuals can clearly articulate their ideas and listen actively, it leads to a more productive and harmonious environment. Good communication prevents misunderstandings, aids in team collaboration, and helps in meeting shared objectives. It also plays a vital role in fostering trust among colleagues, resolving disputes, and ensuring transparency. Whether it’s through face-to-face conversations, written messages, or virtual meetings, mastering communication is essential to creating a positive, high-functioning work culture.\n",
      "\t- Effective communication is a cornerstone of a successful work environment. When employees communicate clearly and efficiently, it improves the overall flow of work and enhances collaboration. Clear exchanges of ideas help to eliminate confusion, build mutual trust, and ensure that everyone is aligned in their goals. Additionally, strong communication skills are key to managing conflicts and setting clear expectations among teams. Whether in meetings, emails, or other formats, being able to communicate effectively contributes to a thriving and efficient workplace.\n",
      "\t- The role of communication in the workplace cannot be overlooked. It serves as the foundation for successful teamwork and organizational growth. When team members share information clearly, it promotes a collaborative atmosphere and reduces the risk of errors or misinterpretations. Strong communication is also vital in building relationships, resolving issues, and making sure everyone is on the same page. Whether it's verbal exchanges or written correspondence, honing your ability to communicate well is vital for fostering an effective work environment.\n",
      "\t- Communication within the workplace is a vital element for success. Clear and open communication promotes a cooperative and efficient atmosphere, helping team members to better understand each other’s ideas and work toward common goals. It reduces confusion, builds trust, and allows for smoother problem-solving when conflicts arise. By conveying thoughts and expectations effectively, individuals can create stronger working relationships and a productive team dynamic. Whether through emails, phone calls, or face-to-face interactions, mastering communication techniques is key for professional achievement.\n"
     ]
    }
   ],
   "source": [
    "for i in range(len(input_strs)):\n",
    "    print(f\"{i} -------------------\")\n",
    "    for s in input_strs[i]:\n",
    "        print(\"\\t- \" + s)"
   ]
  },
  {
   "cell_type": "code",
   "execution_count": 37,
   "metadata": {},
   "outputs": [
    {
     "name": "stderr",
     "output_type": "stream",
     "text": [
      "100%|██████████| 5/5 [02:12<00:00, 26.55s/it]\n"
     ]
    },
    {
     "data": {
      "image/png": "[encoded data removed]",
      "text/plain": [
       "<Figure size 1000x600 with 1 Axes>"
      ]
     },
     "metadata": {},
     "output_type": "display_data"
    }
   ],
   "source": [
    "scores = [ensemble_diversity(s_arr) for s_arr in tqdm.tqdm(input_strs)]\n",
    "labels = [str(number) for number in range(1, len(input_strs) + 1)]\n",
    "\n",
    "df = pd.DataFrame(\n",
    "    scores,\n",
    "    columns=['Cosine-Inv', 'Compression', 'Edit', 'Ensembled']\n",
    ")\n",
    "\n",
    "plt.figure(figsize=(10, 6))\n",
    "\n",
    "x = range(len(df))\n",
    "width = 0.2\n",
    "\n",
    "plt.bar([i - width*1.5 for i in x], df['Cosine-Inv'], width=width, label='Cosine-Inv')\n",
    "plt.bar([i - width*0.5 for i in x], df['Compression'], width=width, label='Compression')\n",
    "plt.bar([i + width*0.5 for i in x], df['Edit'], width=width, label='Edit')\n",
    "plt.bar([i + width*1.5 for i in x], df['Ensembled'], width=width, label='Ensembled')\n",
    "\n",
    "plt.xticks(x, df.index if 'Input' not in df.columns else df['Input'])\n",
    "\n",
    "plt.xlabel(\"Response\")\n",
    "plt.ylabel(\"Diversity Score\")\n",
    "plt.legend()\n",
    "plt.title(\"Comparison of Diversity Metrics\")\n",
    "plt.tight_layout()\n",
    "plt.show()"
   ]
  },
  {
   "cell_type": "markdown",
   "metadata": {},
   "source": [
    "In this example above:\n",
    "- 1. Base case of just the same sentence every time\n",
    "- 2. Asking the LLM 10 times for a joke (with the default temp being low, this should output the same joke most of the time)\n",
    "- 3. Asking the LLM once for 10 different jokes\n",
    "- 4. Asking the LLM 4 different times to create a story about 4 random topics (pre-selected)\n",
    "- 5. Pre-selected LLM call, where it was told to produce 4, ~500 word paragraphs where it explained the exact same thing in a different way\n"
   ]
  },
  {
   "cell_type": "markdown",
   "metadata": {},
   "source": [
    "---\n",
    "---\n",
    "## Potential Exploration\n",
    "- work ensembling all \"diversity\" related metrics \n",
    "  - add more metrics\n",
    "  - tune added metrics\n",
    "- combination of validation/hallucination metric + ensembled diversity metric -> score"
   ]
  },
  {
   "cell_type": "markdown",
   "metadata": {},
   "source": []
  }
 ],
 "metadata": {
  "kernelspec": {
   "display_name": ".venv",
   "language": "python",
   "name": "python3"
  },
  "language_info": {
   "codemirror_mode": {
    "name": "ipython",
    "version": 3
   },
   "file_extension": ".py",
   "mimetype": "text/x-python",
   "name": "python",
   "nbconvert_exporter": "python",
   "pygments_lexer": "ipython3",
   "version": "3.11.9"
  }
 },
 "nbformat": 4,
 "nbformat_minor": 2
}
