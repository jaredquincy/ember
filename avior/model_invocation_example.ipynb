{
 "cells": [
  {
   "cell_type": "code",
   "execution_count": 1,
   "id": "cb9d0737-6143-44d0-9f9f-93ffd1b78071",
   "metadata": {},
   "outputs": [
    {
     "name": "stderr",
     "output_type": "stream",
     "text": [
      "/Users/jaredquincy/foundry-technologies-avior/avior/.venv/lib/python3.11/site-packages/tqdm/auto.py:21: TqdmWarning: IProgress not found. Please update jupyter and ipywidgets. See https://ipywidgets.readthedocs.io/en/stable/user_install.html\n",
      "  from .autonotebook import tqdm as notebook_tqdm\n",
      "/Users/jaredquincy/foundry-technologies-avior/avior/.venv/lib/python3.11/site-packages/pydantic/_internal/_fields.py:160: UserWarning: Field \"model_config_path\" has conflict with protected namespace \"model_\".\n",
      "\n",
      "You may be able to resolve this warning by setting `model_config['protected_namespaces'] = ('settings_',)`.\n",
      "  warnings.warn(\n"
     ]
    }
   ],
   "source": [
    "import logging\n",
    "import os\n",
    "\n",
    "from src.avior.registry.model.config import settings\n",
    "from src.avior.registry.model.registry.model_registry import ModelRegistry\n",
    "from src.avior.registry.model.schemas.model_info import ModelInfo\n",
    "from src.avior.registry.model.schemas.provider_info import ProviderInfo\n",
    "from src.avior.registry.model.schemas.cost import ModelCost, RateLimit\n",
    "from src.avior.registry.model.services.usage_service import UsageService\n",
    "from src.avior.registry.model.services.model_service import ModelService"
   ]
  },
  {
   "cell_type": "code",
   "execution_count": 2,
   "id": "676f996d-fcd6-4eb3-811c-dc155d09d0d9",
   "metadata": {},
   "outputs": [],
   "source": [
    "from src.avior.registry.model.config import initialize_global_registry, GLOBAL_MODEL_REGISTRY\n",
    "from src.avior.registry.model.services.model_service import ModelService"
   ]
  },
  {
   "cell_type": "code",
   "execution_count": 3,
   "id": "fc84fb12-a7f9-4bfd-a631-af9e148f9c33",
   "metadata": {},
   "outputs": [],
   "source": [
    "from src.avior.registry.model.registry.model_enum import OpenAIModelEnum as OME"
   ]
  },
  {
   "cell_type": "code",
   "execution_count": 4,
   "id": "0e525836-43cc-4943-81e4-d55c78d5eb95",
   "metadata": {},
   "outputs": [],
   "source": [
    "\n",
    "# Example of using pydantic-based config or environment variables\n",
    "openai_key = settings.openai_api_key or os.getenv(\"OPENAI_API_KEY\", \"\")"
   ]
  },
  {
   "cell_type": "code",
   "execution_count": 5,
   "id": "0bcbcd68-a686-41f7-ac9f-87bd05e9406a",
   "metadata": {},
   "outputs": [],
   "source": [
    "anthropic_key = settings.anthropic_api_key or os.getenv(\"ANTHROPIC_API_KEY\", \"\")"
   ]
  },
  {
   "cell_type": "code",
   "execution_count": 6,
   "id": "f48977cc-2f7f-45af-bb1e-bb4f3345354f",
   "metadata": {},
   "outputs": [],
   "source": [
    "deepmind_key = settings.google_api_key or os.getenv(\"GOOGLE_API_KEY\", \"\")"
   ]
  },
  {
   "cell_type": "code",
   "execution_count": 9,
   "id": "48669328-78e6-400d-891f-efd2b4f24ad0",
   "metadata": {},
   "outputs": [],
   "source": [
    "registry = ModelRegistry()"
   ]
  },
  {
   "cell_type": "code",
   "execution_count": 10,
   "id": "7045a4bf-14af-4b9a-9023-9a30be4e9f36",
   "metadata": {},
   "outputs": [],
   "source": [
    "usage_service = UsageService()"
   ]
  },
  {
   "cell_type": "code",
   "execution_count": 11,
   "id": "ee7ba81f-3251-4d62-adc8-aaf46567a441",
   "metadata": {},
   "outputs": [],
   "source": [
    "svc = ModelService(registry=registry, usage_service=usage_service)"
   ]
  },
  {
   "cell_type": "code",
   "execution_count": null,
   "id": "1bb4c0a0-4ab8-4a3e-9a61-f211e20f4619",
   "metadata": {},
   "outputs": [],
   "source": [
    "# Register an OpenAI GPT-4o model\n",
    "openai_info = ModelInfo(\n",
    "    model_id=\"openai:gpt-4o\",\n",
    "    model_name=\"gpt-4o\",\n",
    "    cost=ModelCost(input_cost_per_thousand=0.03, output_cost_per_thousand=0.06),\n",
    "    rate_limit=RateLimit(tokens_per_minute=80000, requests_per_minute=5000),\n",
    "    provider=ProviderInfo(name=\"OpenAI\", default_api_key=openai_key),\n",
    "    api_key=openai_key,\n",
    ")\n",
    "registry.register_model(openai_info)"
   ]
  },
  {
   "cell_type": "code",
   "execution_count": null,
   "id": "a7536726-fdc2-46f3-a925-76df38eb9799",
   "metadata": {},
   "outputs": [],
   "source": [
    "# 1) Call the model using a string ID\n",
    "response = svc(OME.GPT_4O, \"Hello world!\")\n",
    "print(\"String ID response:\", response.data)\n",
    "usage_summary = usage_service.get_usage_summary(\"openai:gpt-4\")\n",
    "print(\"Usage summary (string ID):\", usage_summary)\n"
   ]
  },
  {
   "cell_type": "code",
   "execution_count": 16,
   "id": "d6259d36-b139-44d2-afe9-a0ab3d76563c",
   "metadata": {},
   "outputs": [
    {
     "name": "stdout",
     "output_type": "stream",
     "text": [
      "Enum response: Hello! It looks like you're interested in enums. How can I assist you with them today?\n",
      "Usage summary (enum): model_name='openai:gpt-4o' total_usage=UsageStats(total_tokens=51, prompt_tokens=22, completion_tokens=29, cost_usd=0.0024000000000000002)\n"
     ]
    }
   ],
   "source": [
    "# 2) Call the model via the ModelService with an Enum\n",
    "response = svc(OME.GPT_4O, \"Hello again via enum!\")\n",
    "print(\"Enum response:\", response.data)\n",
    "usage_summary = usage_service.get_usage_summary(OME.GPT_4O.value)\n",
    "print(\"Usage summary (enum):\", usage_summary)"
   ]
  },
  {
   "cell_type": "code",
   "execution_count": 21,
   "id": "d0e838c5-7620-45f1-a379-cae390ff09b0",
   "metadata": {},
   "outputs": [
    {
     "name": "stdout",
     "output_type": "stream",
     "text": [
      "Direct usage response: The capital of France is Paris.\n"
     ]
    }
   ],
   "source": [
    "# 3) Direct usage: retrieving the model and calling it as a function\n",
    "gpt4_model = svc.get_model(OME.GPT_4O)\n",
    "response = gpt4_model(\"What is the capital of France?\")\n",
    "print(\"Direct usage response:\", response.data)"
   ]
  },
  {
   "cell_type": "code",
   "execution_count": 25,
   "id": "79e4d5fa-d8d0-4c9e-96b5-15df7ad26030",
   "metadata": {},
   "outputs": [
    {
     "name": "stdout",
     "output_type": "stream",
     "text": [
      "Enum usage response data: The capital of Germany is Berlin.\n",
      "Enum usage response usage: total_tokens=22 prompt_tokens=14 completion_tokens=8 cost_usd=0.0009\n"
     ]
    }
   ],
   "source": [
    "# 4) Option 1 with enum repeated\n",
    "response = svc(OME.GPT_4O.value, \"What is the capital of Germany?\")\n",
    "print(\"Enum usage response data:\", response.data)\n",
    "print(\"Enum usage response usage:\", response.usage)"
   ]
  },
  {
   "cell_type": "code",
   "execution_count": 26,
   "id": "d2c0a0c6-0a2a-4011-878b-0c6de4a8f643",
   "metadata": {},
   "outputs": [
    {
     "name": "stdout",
     "output_type": "stream",
     "text": [
      "String usage response data: The capital of Italy is Rome.\n"
     ]
    }
   ],
   "source": [
    "# 5) Option 2 with string repeated\n",
    "response = svc(\"openai:gpt-4o\", \"What is the capital of Italy?\")\n",
    "print(\"String usage response data:\", response.data)"
   ]
  },
  {
   "cell_type": "code",
   "execution_count": 29,
   "id": "5b73d51b-2f0d-4530-97e6-e0198752d2d7",
   "metadata": {},
   "outputs": [
    {
     "name": "stdout",
     "output_type": "stream",
     "text": [
      "Forward() usage response: The capital of Spain is Madrid.\n"
     ]
    }
   ],
   "source": [
    "# 6) \"Pytorch-like\" usage (calling forward() explicitly)\n",
    "response = gpt4_model(\"What is the capital of Spain?\")\n",
    "print(\"Forward() usage response:\", response.data)"
   ]
  },
  {
   "cell_type": "code",
   "execution_count": null,
   "id": "780dc412-adf8-422e-bf61-9f1e02299e41",
   "metadata": {},
   "outputs": [],
   "source": []
  }
 ],
 "metadata": {
  "kernelspec": {
   "display_name": "Python 3 (ipykernel)",
   "language": "python",
   "name": "python3"
  },
  "language_info": {
   "codemirror_mode": {
    "name": "ipython",
    "version": 3
   },
   "file_extension": ".py",
   "mimetype": "text/x-python",
   "name": "python",
   "nbconvert_exporter": "python",
   "pygments_lexer": "ipython3",
   "version": "3.11.6"
  }
 },
 "nbformat": 4,
 "nbformat_minor": 5
}
